{
 "cells": [
  {
   "cell_type": "markdown",
   "metadata": {},
   "source": [
    "# import "
   ]
  },
  {
   "cell_type": "markdown",
   "metadata": {},
   "source": [
    "In this notebook, my environment is as follows, torch version is 0.4.1.  \n",
    "\n",
    "\n",
    "`pip install tensorflow==1.13.1 onnx==1.2.1 onnx-tf==1.1.2`\n",
    "\n",
    "\n",
    "make sure the version. some version may cause Upsample version 1 is not implemented problem.\n",
    "If that happens try to roll back to older versions"
   ]
  },
  {
   "cell_type": "code",
   "execution_count": 23,
   "metadata": {
    "ExecuteTime": {
     "end_time": "2019-08-07T02:30:50.618179Z",
     "start_time": "2019-08-07T02:30:50.402983Z"
    }
   },
   "outputs": [],
   "source": [
    "import os\n",
    "import tensorflow as tf\n",
    "import torch\n",
    "from torch.autograd import Variable\n",
    "import torchvision.transforms as transforms\n",
    "import numpy as np\n",
    "import matplotlib.pyplot as plt\n",
    "from PIL import Image\n",
    "import onnx\n",
    "from onnx_tf.backend import prepare\n",
    "#from onnx import version_converter, helper"
   ]
  },
  {
   "cell_type": "code",
   "execution_count": 3,
   "metadata": {
    "ExecuteTime": {
     "end_time": "2019-08-07T01:07:53.250481Z",
     "start_time": "2019-08-07T01:07:53.243103Z"
    }
   },
   "outputs": [],
   "source": [
    "# import our Hair network\n",
    "from models import MobileHairNet\n",
    "# import config file\n",
    "import config"
   ]
  },
  {
   "cell_type": "code",
   "execution_count": 4,
   "metadata": {
    "ExecuteTime": {
     "end_time": "2019-08-07T01:08:09.806429Z",
     "start_time": "2019-08-07T01:08:09.802708Z"
    }
   },
   "outputs": [
    {
     "name": "stdout",
     "output_type": "stream",
     "text": [
      "1.13.1\n"
     ]
    }
   ],
   "source": [
    "print(tf.__version__)"
   ]
  },
  {
   "cell_type": "markdown",
   "metadata": {},
   "source": [
    "# configurations"
   ]
  },
  {
   "cell_type": "code",
   "execution_count": 5,
   "metadata": {
    "ExecuteTime": {
     "end_time": "2019-08-07T01:08:15.243379Z",
     "start_time": "2019-08-07T01:08:15.237352Z"
    }
   },
   "outputs": [],
   "source": [
    "USE_CUDA = torch.cuda.is_available()\n",
    "device = torch.device('cuda' if USE_CUDA else 'cpu')\n",
    "DIR_PATH = os.path.abspath('') # current path\n",
    "SAVE_PATH = os.path.join(DIR_PATH, config.SAVE_DIR, config.MODEL_NAME)\n",
    "TORCH_MODEL_PATH = os.path.join(SAVE_PATH, \"train_170.pt\")\n",
    "ONNX_MODEL_PATH = os.path.join(SAVE_PATH, \"train_170.onnx\")\n",
    "TF_MODEL_PATH = os.path.join(SAVE_PATH, \"train_170.pb\")\n"
   ]
  },
  {
   "cell_type": "code",
   "execution_count": 6,
   "metadata": {
    "ExecuteTime": {
     "end_time": "2019-08-07T01:08:16.289693Z",
     "start_time": "2019-08-07T01:08:16.285410Z"
    }
   },
   "outputs": [
    {
     "name": "stdout",
     "output_type": "stream",
     "text": [
      "/Users/qianqu/Coursework/CV/hair-dye/src/checkpoints/default/train_170.pt\n"
     ]
    }
   ],
   "source": [
    "print(TORCH_MODEL_PATH)"
   ]
  },
  {
   "cell_type": "markdown",
   "metadata": {},
   "source": [
    "# load torch model and export it to ONNX model"
   ]
  },
  {
   "cell_type": "code",
   "execution_count": 7,
   "metadata": {
    "ExecuteTime": {
     "end_time": "2019-08-07T01:08:17.681827Z",
     "start_time": "2019-08-07T01:08:17.677223Z"
    }
   },
   "outputs": [],
   "source": [
    "def build_model(path, device):\n",
    "    model = MobileHairNet()\n",
    "    checkpoint = torch.load(path, map_location=device)\n",
    "    model.load_state_dict(checkpoint['model'])\n",
    "    # use appropriate device\n",
    "    model = model.to(device)\n",
    "    \n",
    "    return model\n"
   ]
  },
  {
   "cell_type": "code",
   "execution_count": 8,
   "metadata": {
    "ExecuteTime": {
     "end_time": "2019-08-07T01:08:22.662350Z",
     "start_time": "2019-08-07T01:08:18.428954Z"
    }
   },
   "outputs": [],
   "source": [
    "torch_model = build_model(TORCH_MODEL_PATH, device)\n",
    "# export model to ONNX\n",
    "# ONNX need a dummy input\n",
    "dummy_input = Variable(torch.randn(1, 3, config.IMG_SIZE, config.IMG_SIZE))\n",
    "# pred = torch_model(dummy_input)\n",
    "# print(\"output size: \", pred.size())\n",
    "torch.onnx.export(torch_model, dummy_input, ONNX_MODEL_PATH)"
   ]
  },
  {
   "cell_type": "markdown",
   "metadata": {},
   "source": [
    "# Import the ONNX model to tensorflow"
   ]
  },
  {
   "cell_type": "code",
   "execution_count": 11,
   "metadata": {
    "ExecuteTime": {
     "end_time": "2019-08-07T01:08:46.285987Z",
     "start_time": "2019-08-07T01:08:46.238881Z"
    }
   },
   "outputs": [],
   "source": [
    "# load the onnx file\n",
    "onnx_model = onnx.load(ONNX_MODEL_PATH)\n",
    "# Check the model\n",
    "onnx.checker.check_model(onnx_model)\n",
    "# print('The model before conversion:\\n{}'.format(onnx_or_model))\n",
    "\n",
    "# # A full list of supported adapters can be found here:\n",
    "# # https://github.com/onnx/onnx/blob/master/onnx/version_converter.py#L21\n",
    "# # Apply the version conversion on the original model\n",
    "# onnx_model = version_converter.convert_version(onnx_or_model, 6)\n",
    "\n",
    "# print('The model after conversion:\\n{}'.format(onnx_model))\n"
   ]
  },
  {
   "cell_type": "code",
   "execution_count": 12,
   "metadata": {
    "ExecuteTime": {
     "end_time": "2019-08-07T01:09:05.924705Z",
     "start_time": "2019-08-07T01:08:51.426949Z"
    }
   },
   "outputs": [],
   "source": [
    "# import onnx to TF model\n",
    "tf_rep = prepare(onnx_model)"
   ]
  },
  {
   "cell_type": "markdown",
   "metadata": {},
   "source": [
    "# Save to file"
   ]
  },
  {
   "cell_type": "code",
   "execution_count": 15,
   "metadata": {
    "ExecuteTime": {
     "end_time": "2019-08-07T01:22:09.129320Z",
     "start_time": "2019-08-07T01:22:08.730635Z"
    }
   },
   "outputs": [],
   "source": [
    "tf_rep.export_graph(TF_MODEL_PATH)"
   ]
  },
  {
   "cell_type": "markdown",
   "metadata": {},
   "source": [
    "# Run the model to see if it works"
   ]
  },
  {
   "cell_type": "code",
   "execution_count": 18,
   "metadata": {
    "ExecuteTime": {
     "end_time": "2019-08-07T02:06:51.495739Z",
     "start_time": "2019-08-07T02:06:51.487684Z"
    }
   },
   "outputs": [],
   "source": [
    "class ImgTransformer():\n",
    "    def __init__(self, img_size, color_aug=False):\n",
    "        self.img_size = img_size\n",
    "        self.color_aug = color_aug\n",
    "\n",
    "    def transform(self, image):\n",
    "        transformer = transforms.Compose([\n",
    "            transforms.CenterCrop(min(image.size[0], image.size[1])),\n",
    "            transforms.Resize(self.img_size)\n",
    "        ] + ([\n",
    "            transforms.ColorJitter(brightness=1, contrast=1, saturation=1, hue=.5),\n",
    "            transforms.RandomGrayscale(p=0.1)\n",
    "        ] if self.color_aug else []) + [\n",
    "            transforms.ToTensor(),\n",
    "            transforms.Normalize((.5, .5, .5), (.5, .5, .5))\n",
    "        ])\n",
    "\n",
    "        transform_image = transformer(image)\n",
    "\n",
    "        return transform_image\n",
    "\n",
    "    def load(self, path):\n",
    "        image = Image.open(path).convert('RGB')\n",
    "        return self.transform(image)"
   ]
  },
  {
   "cell_type": "code",
   "execution_count": 48,
   "metadata": {
    "ExecuteTime": {
     "end_time": "2019-08-07T02:48:51.982918Z",
     "start_time": "2019-08-07T02:48:51.972501Z"
    }
   },
   "outputs": [],
   "source": [
    "def create_multi_figure(rows, dye=False):\n",
    "    fig = plt.figure()\n",
    "\n",
    "  # 3 tensors, the middle one is mask\n",
    "    if len(rows[0]) == 3:\n",
    "        names = [\"Image\", \"Mask\", \"Prediction\"]\n",
    "    else:\n",
    "        names = [\"Image\", \"Prediction\"]\n",
    "\n",
    "    for i, data in enumerate(rows):\n",
    "        img = data[0]\n",
    "        prediction = data[-1]\n",
    "\n",
    "        # reverse normalization of the oriignal image\n",
    "        img = (img + 1) / 2\n",
    "        data[0] = img\n",
    "\n",
    "        if dye:\n",
    "            transform_hue = transforms.Compose([\n",
    "            transforms.ToPILImage(),\n",
    "            transforms.ColorJitter(\n",
    "                hue=0.5, saturation=0.8, contrast=0.2, brightness=0.3),\n",
    "            transforms.ToTensor()\n",
    "          ])\n",
    "            dyed = transform_hue(img)\n",
    "\n",
    "            dyed = prediction * dyed + (1 - prediction) * img\n",
    "            data.append(dyed)\n",
    "            names.append('Dye')\n",
    "\n",
    "\n",
    "        for j, d in enumerate(data):\n",
    "            d = d.squeeze()\n",
    "            im = d.data.numpy()\n",
    "\n",
    "            if im.shape[0] != 3:\n",
    "                im = np.expand_dims(im, axis=0)\n",
    "                im = np.concatenate((im, im, im), axis=0)\n",
    "\n",
    "            im = im.transpose(1, 2, 0)\n",
    "\n",
    "            f = fig.add_subplot(len(rows), len(data), i * len(data)+ j + 1)\n",
    "            f.imshow(im)\n",
    "            if i == 0:\n",
    "                f.set_title(names[j])\n",
    "                f.set_xticks([])\n",
    "                f.set_yticks([])\n",
    "\n",
    "    return fig"
   ]
  },
  {
   "cell_type": "code",
   "execution_count": 52,
   "metadata": {
    "ExecuteTime": {
     "end_time": "2019-08-07T02:54:01.745846Z",
     "start_time": "2019-08-07T02:54:01.723213Z"
    }
   },
   "outputs": [],
   "source": [
    "img_path = os.path.join(DIR_PATH, config.TEST_CORPUS, \"images\", \"Frame\\ \\(150\\).jpg\")\n",
    "transformer = ImgTransformer(config.IMG_SIZE, color_aug=False)\n",
    "img =  transformer.load(img_path)"
   ]
  },
  {
   "cell_type": "code",
   "execution_count": 53,
   "metadata": {
    "ExecuteTime": {
     "end_time": "2019-08-07T02:54:10.042903Z",
     "start_time": "2019-08-07T02:54:09.499252Z"
    }
   },
   "outputs": [
    {
     "data": {
      "text/plain": [
       "tensor([[[ 0.4902,  0.5137,  0.5216,  ..., -0.6471, -0.6471, -0.6471],\n",
       "         [ 0.4980,  0.5137,  0.5216,  ..., -0.6471, -0.6471, -0.6471],\n",
       "         [ 0.5059,  0.5216,  0.5373,  ..., -0.6471, -0.6471, -0.6392],\n",
       "         ...,\n",
       "         [ 0.0118, -0.0039,  0.0118,  ...,  0.1529,  0.1373,  0.1137],\n",
       "         [-0.0039,  0.0118,  0.0196,  ...,  0.1216,  0.0980,  0.0667],\n",
       "         [-0.0118,  0.0118,  0.0196,  ...,  0.0980,  0.0667,  0.0353]],\n",
       "\n",
       "        [[ 0.3569,  0.3804,  0.3882,  ..., -0.7882, -0.7882, -0.7882],\n",
       "         [ 0.3647,  0.3804,  0.3882,  ..., -0.7882, -0.7882, -0.7882],\n",
       "         [ 0.3647,  0.3804,  0.3961,  ..., -0.7882, -0.7882, -0.7804],\n",
       "         ...,\n",
       "         [-0.1529, -0.1686, -0.1529,  ..., -0.0196, -0.0353, -0.0510],\n",
       "         [-0.1451, -0.1294, -0.1137,  ..., -0.0667, -0.0824, -0.0902],\n",
       "         [-0.1451, -0.1216, -0.1059,  ..., -0.1059, -0.1137, -0.1216]],\n",
       "\n",
       "        [[-0.2706, -0.2471, -0.2471,  ..., -0.7882, -0.7882, -0.7882],\n",
       "         [-0.2627, -0.2471, -0.2471,  ..., -0.7882, -0.7882, -0.7882],\n",
       "         [-0.2627, -0.2549, -0.2471,  ..., -0.7882, -0.7882, -0.7882],\n",
       "         ...,\n",
       "         [-0.4902, -0.5059, -0.4980,  ..., -0.3255, -0.3569, -0.4118],\n",
       "         [-0.5059, -0.4902, -0.4824,  ..., -0.3725, -0.4039, -0.4275],\n",
       "         [-0.5059, -0.4824, -0.4824,  ..., -0.4039, -0.4353, -0.4510]]])"
      ]
     },
     "metadata": {},
     "output_type": "display_data"
    }
   ],
   "source": [
    "display(img)"
   ]
  },
  {
   "cell_type": "code",
   "execution_count": 54,
   "metadata": {
    "ExecuteTime": {
     "end_time": "2019-08-07T02:54:17.917369Z",
     "start_time": "2019-08-07T02:54:17.913270Z"
    }
   },
   "outputs": [],
   "source": [
    "def evaluateOne(img, model, absolute=True):\n",
    "    img = img.to(device).unsqueeze(0)\n",
    "    pred = model.run(img)[0]\n",
    "    pred = torch.from_numpy(pred)\n",
    "    if absolute:\n",
    "        pred[pred > .5] = 1.\n",
    "        pred[pred <= .5] = 0.\n",
    "    else:\n",
    "        pred[pred < .4] = 0\n",
    "\n",
    "    rows = [[img[0], pred[0]]]\n",
    "    create_multi_figure(rows, dye=True)\n",
    "    plt.show()\n"
   ]
  },
  {
   "cell_type": "code",
   "execution_count": 55,
   "metadata": {
    "ExecuteTime": {
     "end_time": "2019-08-07T02:54:35.852305Z",
     "start_time": "2019-08-07T02:54:25.670586Z"
    }
   },
   "outputs": [
    {
     "data": {
      "image/png": "[encoded data removed]",
      "text/plain": [
       "<Figure size 432x288 with 3 Axes>"
      ]
     },
     "metadata": {},
     "output_type": "display_data"
    }
   ],
   "source": [
    "evaluateOne(img, tf_rep)\n"
   ]
  },
  {
   "cell_type": "code",
   "execution_count": null,
   "metadata": {},
   "outputs": [],
   "source": []
  }
 ],
 "metadata": {
  "hide_input": false,
  "kernelspec": {
   "display_name": "Python 3",
   "language": "python",
   "name": "python3"
  },
  "language_info": {
   "codemirror_mode": {
    "name": "ipython",
    "version": 3
   },
   "file_extension": ".py",
   "mimetype": "text/x-python",
   "name": "python",
   "nbconvert_exporter": "python",
   "pygments_lexer": "ipython3",
   "version": "3.6.8"
  },
  "toc": {
   "base_numbering": 1,
   "nav_menu": {},
   "number_sections": true,
   "sideBar": true,
   "skip_h1_title": false,
   "title_cell": "Table of Contents",
   "title_sidebar": "Contents",
   "toc_cell": false,
   "toc_position": {},
   "toc_section_display": true,
   "toc_window_display": false
  },
  "varInspector": {
   "cols": {
    "lenName": 16,
    "lenType": 16,
    "lenVar": 40
   },
   "kernels_config": {
    "python": {
     "delete_cmd_postfix": "",
     "delete_cmd_prefix": "del ",
     "library": "var_list.py",
     "varRefreshCmd": "print(var_dic_list())"
    },
    "r": {
     "delete_cmd_postfix": ") ",
     "delete_cmd_prefix": "rm(",
     "library": "var_list.r",
     "varRefreshCmd": "cat(var_dic_list()) "
    }
   },
   "types_to_exclude": [
    "module",
    "function",
    "builtin_function_or_method",
    "instance",
    "_Feature"
   ],
   "window_display": false
  }
 },
 "nbformat": 4,
 "nbformat_minor": 2
}
