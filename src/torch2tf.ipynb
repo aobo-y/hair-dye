{
 "cells": [
  {
   "cell_type": "markdown",
   "metadata": {},
   "source": [
    "# import "
   ]
  },
  {
   "cell_type": "markdown",
   "metadata": {},
   "source": [
    "In this notebook, my environment is as follows, torch version is 0.4.1.  \n",
    "\n",
    "\n",
    "`pip install tensorflow==1.13.1 onnx==1.2.1 onnx-tf==1.1.2`\n",
    "\n",
    "\n",
    "make sure the version. some version may cause Upsample version 1 is not implemented problem.\n",
    "If that happens try to roll back to older versions"
   ]
  },
  {
   "cell_type": "code",
   "execution_count": 3,
   "metadata": {
    "ExecuteTime": {
     "end_time": "2019-08-09T14:13:36.842649Z",
     "start_time": "2019-08-09T14:13:36.838018Z"
    }
   },
   "outputs": [],
   "source": [
    "import os\n",
    "import tensorflow as tf\n",
    "import torch\n",
    "from torch.autograd import Variable\n",
    "import torchvision.transforms as transforms\n",
    "import numpy as np\n",
    "import matplotlib.pyplot as plt\n",
    "from PIL import Image\n",
    "import onnx\n",
    "from onnx_tf.backend import prepare\n",
    "#from onnx import version_converter, helper"
   ]
  },
  {
   "cell_type": "code",
   "execution_count": 4,
   "metadata": {
    "ExecuteTime": {
     "end_time": "2019-08-09T14:13:37.482758Z",
     "start_time": "2019-08-09T14:13:37.476270Z"
    }
   },
   "outputs": [],
   "source": [
    "# import our Hair network\n",
    "from models import MobileHairNet\n",
    "# import config file\n",
    "import config"
   ]
  },
  {
   "cell_type": "code",
   "execution_count": 5,
   "metadata": {
    "ExecuteTime": {
     "end_time": "2019-08-09T14:13:38.377808Z",
     "start_time": "2019-08-09T14:13:38.373125Z"
    }
   },
   "outputs": [
    {
     "name": "stdout",
     "output_type": "stream",
     "text": [
      "1.13.1\n",
      "1.2.1\n"
     ]
    }
   ],
   "source": [
    "print(tf.__version__)\n",
    "print(onnx.__version__)"
   ]
  },
  {
   "cell_type": "markdown",
   "metadata": {},
   "source": [
    "# configurations"
   ]
  },
  {
   "cell_type": "code",
   "execution_count": 6,
   "metadata": {
    "ExecuteTime": {
     "end_time": "2019-08-09T14:13:39.755329Z",
     "start_time": "2019-08-09T14:13:39.749885Z"
    }
   },
   "outputs": [],
   "source": [
    "USE_CUDA = torch.cuda.is_available()\n",
    "device = torch.device('cuda' if USE_CUDA else 'cpu')\n",
    "DIR_PATH = os.path.abspath('') # current path\n",
    "SAVE_PATH = os.path.join(DIR_PATH, config.SAVE_DIR, config.MODEL_NAME)\n",
    "TORCH_MODEL_PATH = os.path.join(SAVE_PATH, \"train_170.pt\")\n",
    "ONNX_MODEL_PATH = os.path.join(SAVE_PATH, \"train_170.onnx\")\n",
    "TF_MODEL_PATH = os.path.join(SAVE_PATH, \"train_170.pb\")\n"
   ]
  },
  {
   "cell_type": "code",
   "execution_count": 7,
   "metadata": {
    "ExecuteTime": {
     "end_time": "2019-08-09T14:13:40.354275Z",
     "start_time": "2019-08-09T14:13:40.349715Z"
    }
   },
   "outputs": [
    {
     "name": "stdout",
     "output_type": "stream",
     "text": [
      "/Users/qianqu/Coursework/CV/hair-dye/src/checkpoints/default/train_170.pt\n"
     ]
    }
   ],
   "source": [
    "print(TORCH_MODEL_PATH)"
   ]
  },
  {
   "cell_type": "markdown",
   "metadata": {},
   "source": [
    "# load torch model and export it to ONNX model"
   ]
  },
  {
   "cell_type": "code",
   "execution_count": 8,
   "metadata": {
    "ExecuteTime": {
     "end_time": "2019-08-09T14:13:41.202939Z",
     "start_time": "2019-08-09T14:13:41.198427Z"
    }
   },
   "outputs": [],
   "source": [
    "def build_model(path, device):\n",
    "    model = MobileHairNet()\n",
    "    checkpoint = torch.load(path, map_location=device)\n",
    "    model.load_state_dict(checkpoint['model'])\n",
    "    # use appropriate device\n",
    "    model = model.to(device)\n",
    "    \n",
    "    return model\n"
   ]
  },
  {
   "cell_type": "code",
   "execution_count": 22,
   "metadata": {
    "ExecuteTime": {
     "end_time": "2019-08-09T14:39:37.855157Z",
     "start_time": "2019-08-09T14:39:32.944042Z"
    }
   },
   "outputs": [
    {
     "name": "stdout",
     "output_type": "stream",
     "text": [
      "graph(%input : Float(1, 3, 448, 448)\n",
      "      %1 : Float(32, 3, 3, 3)\n",
      "      %2 : Float(32)\n",
      "      %3 : Float(32, 1, 3, 3)\n",
      "      %4 : Float(32)\n",
      "      %5 : Float(32)\n",
      "      %6 : Float(32)\n",
      "      %7 : Float(32)\n",
      "      %8 : Float(32)\n",
      "      %9 : Long()\n",
      "      %10 : Float(64, 32, 1, 1)\n",
      "      %11 : Float(64)\n",
      "      %12 : Float(64)\n",
      "      %13 : Float(64)\n",
      "      %14 : Float(64)\n",
      "      %15 : Float(64)\n",
      "      %16 : Long()\n",
      "      %17 : Float(64, 1, 3, 3)\n",
      "      %18 : Float(64)\n",
      "      %19 : Float(64)\n",
      "      %20 : Float(64)\n",
      "      %21 : Float(64)\n",
      "      %22 : Float(64)\n",
      "      %23 : Long()\n",
      "      %24 : Float(128, 64, 1, 1)\n",
      "      %25 : Float(128)\n",
      "      %26 : Float(128)\n",
      "      %27 : Float(128)\n",
      "      %28 : Float(128)\n",
      "      %29 : Float(128)\n",
      "      %30 : Long()\n",
      "      %31 : Float(128, 1, 3, 3)\n",
      "      %32 : Float(128)\n",
      "      %33 : Float(128)\n",
      "      %34 : Float(128)\n",
      "      %35 : Float(128)\n",
      "      %36 : Float(128)\n",
      "      %37 : Long()\n",
      "      %38 : Float(128, 128, 1, 1)\n",
      "      %39 : Float(128)\n",
      "      %40 : Float(128)\n",
      "      %41 : Float(128)\n",
      "      %42 : Float(128)\n",
      "      %43 : Float(128)\n",
      "      %44 : Long()\n",
      "      %45 : Float(128, 1, 3, 3)\n",
      "      %46 : Float(128)\n",
      "      %47 : Float(128)\n",
      "      %48 : Float(128)\n",
      "      %49 : Float(128)\n",
      "      %50 : Float(128)\n",
      "      %51 : Long()\n",
      "      %52 : Float(256, 128, 1, 1)\n",
      "      %53 : Float(256)\n",
      "      %54 : Float(256)\n",
      "      %55 : Float(256)\n",
      "      %56 : Float(256)\n",
      "      %57 : Float(256)\n",
      "      %58 : Long()\n",
      "      %59 : Float(256, 1, 3, 3)\n",
      "      %60 : Float(256)\n",
      "      %61 : Float(256)\n",
      "      %62 : Float(256)\n",
      "      %63 : Float(256)\n",
      "      %64 : Float(256)\n",
      "      %65 : Long()\n",
      "      %66 : Float(256, 256, 1, 1)\n",
      "      %67 : Float(256)\n",
      "      %68 : Float(256)\n",
      "      %69 : Float(256)\n",
      "      %70 : Float(256)\n",
      "      %71 : Float(256)\n",
      "      %72 : Long()\n",
      "      %73 : Float(256, 1, 3, 3)\n",
      "      %74 : Float(256)\n",
      "      %75 : Float(256)\n",
      "      %76 : Float(256)\n",
      "      %77 : Float(256)\n",
      "      %78 : Float(256)\n",
      "      %79 : Long()\n",
      "      %80 : Float(512, 256, 1, 1)\n",
      "      %81 : Float(512)\n",
      "      %82 : Float(512)\n",
      "      %83 : Float(512)\n",
      "      %84 : Float(512)\n",
      "      %85 : Float(512)\n",
      "      %86 : Long()\n",
      "      %87 : Float(512, 1, 3, 3)\n",
      "      %88 : Float(512)\n",
      "      %89 : Float(512)\n",
      "      %90 : Float(512)\n",
      "      %91 : Float(512)\n",
      "      %92 : Float(512)\n",
      "      %93 : Long()\n",
      "      %94 : Float(512, 512, 1, 1)\n",
      "      %95 : Float(512)\n",
      "      %96 : Float(512)\n",
      "      %97 : Float(512)\n",
      "      %98 : Float(512)\n",
      "      %99 : Float(512)\n",
      "      %100 : Long()\n",
      "      %101 : Float(512, 1, 3, 3)\n",
      "      %102 : Float(512)\n",
      "      %103 : Float(512)\n",
      "      %104 : Float(512)\n",
      "      %105 : Float(512)\n",
      "      %106 : Float(512)\n",
      "      %107 : Long()\n",
      "      %108 : Float(512, 512, 1, 1)\n",
      "      %109 : Float(512)\n",
      "      %110 : Float(512)\n",
      "      %111 : Float(512)\n",
      "      %112 : Float(512)\n",
      "      %113 : Float(512)\n",
      "      %114 : Long()\n",
      "      %115 : Float(512, 1, 3, 3)\n",
      "      %116 : Float(512)\n",
      "      %117 : Float(512)\n",
      "      %118 : Float(512)\n",
      "      %119 : Float(512)\n",
      "      %120 : Float(512)\n",
      "      %121 : Long()\n",
      "      %122 : Float(512, 512, 1, 1)\n",
      "      %123 : Float(512)\n",
      "      %124 : Float(512)\n",
      "      %125 : Float(512)\n",
      "      %126 : Float(512)\n",
      "      %127 : Float(512)\n",
      "      %128 : Long()\n",
      "      %129 : Float(512, 1, 3, 3)\n",
      "      %130 : Float(512)\n",
      "      %131 : Float(512)\n",
      "      %132 : Float(512)\n",
      "      %133 : Float(512)\n",
      "      %134 : Float(512)\n",
      "      %135 : Long()\n",
      "      %136 : Float(512, 512, 1, 1)\n",
      "      %137 : Float(512)\n",
      "      %138 : Float(512)\n",
      "      %139 : Float(512)\n",
      "      %140 : Float(512)\n",
      "      %141 : Float(512)\n",
      "      %142 : Long()\n",
      "      %143 : Float(512, 1, 3, 3)\n",
      "      %144 : Float(512)\n",
      "      %145 : Float(512)\n",
      "      %146 : Float(512)\n",
      "      %147 : Float(512)\n",
      "      %148 : Float(512)\n",
      "      %149 : Long()\n",
      "      %150 : Float(512, 512, 1, 1)\n",
      "      %151 : Float(512)\n",
      "      %152 : Float(512)\n",
      "      %153 : Float(512)\n",
      "      %154 : Float(512)\n",
      "      %155 : Float(512)\n",
      "      %156 : Long()\n",
      "      %157 : Float(512, 1, 3, 3)\n",
      "      %158 : Float(512)\n",
      "      %159 : Float(512)\n",
      "      %160 : Float(512)\n",
      "      %161 : Float(512)\n",
      "      %162 : Float(512)\n",
      "      %163 : Long()\n",
      "      %164 : Float(1024, 512, 1, 1)\n",
      "      %165 : Float(1024)\n",
      "      %166 : Float(1024)\n",
      "      %167 : Float(1024)\n",
      "      %168 : Float(1024)\n",
      "      %169 : Float(1024)\n",
      "      %170 : Long()\n",
      "      %171 : Float(1024, 1, 3, 3)\n",
      "      %172 : Float(1024)\n",
      "      %173 : Float(1024)\n",
      "      %174 : Float(1024)\n",
      "      %175 : Float(1024)\n",
      "      %176 : Float(1024)\n",
      "      %177 : Long()\n",
      "      %178 : Float(1024, 1024, 1, 1)\n",
      "      %179 : Float(1024)\n",
      "      %180 : Float(1024)\n",
      "      %181 : Float(1024)\n",
      "      %182 : Float(1024)\n",
      "      %183 : Float(1024)\n",
      "      %184 : Long()\n",
      "      %185 : Float(1024, 512, 1, 1)\n",
      "      %186 : Float(1024)\n",
      "      %187 : Float(1024, 1, 3, 3)\n",
      "      %188 : Float(1024)\n",
      "      %189 : Float(64, 1024, 1, 1)\n",
      "      %190 : Float(64)\n",
      "      %191 : Float(64, 256, 1, 1)\n",
      "      %192 : Float(64)\n",
      "      %193 : Float(64, 1, 3, 3)\n",
      "      %194 : Float(64)\n",
      "      %195 : Float(64, 64, 1, 1)\n",
      "      %196 : Float(64)\n",
      "      %197 : Float(64, 128, 1, 1)\n",
      "      %198 : Float(64)\n",
      "      %199 : Float(64, 1, 3, 3)\n",
      "      %200 : Float(64)\n",
      "      %201 : Float(64, 64, 1, 1)\n",
      "      %202 : Float(64)\n",
      "      %203 : Float(64, 64, 1, 1)\n",
      "      %204 : Float(64)\n",
      "      %205 : Float(64, 1, 3, 3)\n",
      "      %206 : Float(64)\n",
      "      %207 : Float(64, 64, 1, 1)\n",
      "      %208 : Float(64)\n",
      "      %209 : Float(64, 1, 3, 3)\n",
      "      %210 : Float(64)\n",
      "      %211 : Float(64, 64, 1, 1)\n",
      "      %212 : Float(64)\n",
      "      %213 : Float(1, 64, 1, 1)\n",
      "      %214 : Float(1)) {\n",
      "  %215 : Float(1, 32, 224, 224) = onnx::Conv[dilations=[1, 1], group=1, kernel_shape=[3, 3], pads=[1, 1, 1, 1], strides=[2, 2]](%input, %1, %2), scope: MobileHairNet/_EncodeBlockBlueGreen[encode_block1]/Sequential[layer]/_BlueBlock[0]/Conv2d[layer]\n",
      "  %216 : Float(1, 32, 224, 224) = onnx::Conv[dilations=[1, 1], group=32, kernel_shape=[3, 3], pads=[1, 1, 1, 1], strides=[1, 1]](%215, %3, %4), scope: MobileHairNet/_EncodeBlockBlueGreen[encode_block1]/Sequential[layer]/_GreenBlock[1]/Sequential[layer]/Conv2d[0]\n",
      "  %217 : Float(1, 32, 224, 224) = onnx::BatchNormalization[epsilon=1e-05, is_test=1, momentum=1](%216, %5, %6, %7, %8), scope: MobileHairNet/_EncodeBlockBlueGreen[encode_block1]/Sequential[layer]/_GreenBlock[1]/Sequential[layer]/BatchNorm2d[1]\n",
      "  %218 : Float(1, 32, 224, 224) = onnx::Clip[max=6, min=0](%217), scope: MobileHairNet/_EncodeBlockBlueGreen[encode_block1]/Sequential[layer]/_GreenBlock[1]/Sequential[layer]/ReLU6[2]\n",
      "  %219 : Float(1, 64, 224, 224) = onnx::Conv[dilations=[1, 1], group=1, kernel_shape=[1, 1], pads=[0, 0, 0, 0], strides=[1, 1]](%218, %10, %11), scope: MobileHairNet/_EncodeBlockBlueGreen[encode_block1]/Sequential[layer]/_GreenBlock[1]/Sequential[layer]/Conv2d[3]\n",
      "  %220 : Float(1, 64, 224, 224) = onnx::BatchNormalization[epsilon=1e-05, is_test=1, momentum=1](%219, %12, %13, %14, %15), scope: MobileHairNet/_EncodeBlockBlueGreen[encode_block1]/Sequential[layer]/_GreenBlock[1]/Sequential[layer]/BatchNorm2d[4]\n",
      "  %221 : Float(1, 64, 224, 224) = onnx::Clip[max=6, min=0](%220), scope: MobileHairNet/_EncodeBlockBlueGreen[encode_block1]/Sequential[layer]/_GreenBlock[1]/Sequential[layer]/ReLU6[5]\n",
      "  %222 : Float(1, 64, 224, 224) = onnx::Conv[dilations=[1, 1], group=64, kernel_shape=[3, 3], pads=[1, 1, 1, 1], strides=[1, 1]](%221, %17, %18), scope: MobileHairNet/_EncodeBlockGreenGreen[encode_block2]/Sequential[layer]/_GreenBlock[0]/Sequential[layer]/Conv2d[0]\n",
      "  %223 : Float(1, 64, 224, 224) = onnx::BatchNormalization[epsilon=1e-05, is_test=1, momentum=1](%222, %19, %20, %21, %22), scope: MobileHairNet/_EncodeBlockGreenGreen[encode_block2]/Sequential[layer]/_GreenBlock[0]/Sequential[layer]/BatchNorm2d[1]\n",
      "  %224 : Float(1, 64, 224, 224) = onnx::Clip[max=6, min=0](%223), scope: MobileHairNet/_EncodeBlockGreenGreen[encode_block2]/Sequential[layer]/_GreenBlock[0]/Sequential[layer]/ReLU6[2]\n",
      "  %225 : Float(1, 128, 112, 112) = onnx::Conv[dilations=[1, 1], group=1, kernel_shape=[1, 1], pads=[0, 0, 0, 0], strides=[2, 2]](%224, %24, %25), scope: MobileHairNet/_EncodeBlockGreenGreen[encode_block2]/Sequential[layer]/_GreenBlock[0]/Sequential[layer]/Conv2d[3]\n",
      "  %226 : Float(1, 128, 112, 112) = onnx::BatchNormalization[epsilon=1e-05, is_test=1, momentum=1](%225, %26, %27, %28, %29), scope: MobileHairNet/_EncodeBlockGreenGreen[encode_block2]/Sequential[layer]/_GreenBlock[0]/Sequential[layer]/BatchNorm2d[4]\n",
      "  %227 : Float(1, 128, 112, 112) = onnx::Clip[max=6, min=0](%226), scope: MobileHairNet/_EncodeBlockGreenGreen[encode_block2]/Sequential[layer]/_GreenBlock[0]/Sequential[layer]/ReLU6[5]\n",
      "  %228 : Float(1, 128, 112, 112) = onnx::Conv[dilations=[1, 1], group=128, kernel_shape=[3, 3], pads=[1, 1, 1, 1], strides=[1, 1]](%227, %31, %32), scope: MobileHairNet/_EncodeBlockGreenGreen[encode_block2]/Sequential[layer]/_GreenBlock[1]/Sequential[layer]/Conv2d[0]\n",
      "  %229 : Float(1, 128, 112, 112) = onnx::BatchNormalization[epsilon=1e-05, is_test=1, momentum=1](%228, %33, %34, %35, %36), scope: MobileHairNet/_EncodeBlockGreenGreen[encode_block2]/Sequential[layer]/_GreenBlock[1]/Sequential[layer]/BatchNorm2d[1]\n",
      "  %230 : Float(1, 128, 112, 112) = onnx::Clip[max=6, min=0](%229), scope: MobileHairNet/_EncodeBlockGreenGreen[encode_block2]/Sequential[layer]/_GreenBlock[1]/Sequential[layer]/ReLU6[2]\n",
      "  %231 : Float(1, 128, 112, 112) = onnx::Conv[dilations=[1, 1], group=1, kernel_shape=[1, 1], pads=[0, 0, 0, 0], strides=[1, 1]](%230, %38, %39), scope: MobileHairNet/_EncodeBlockGreenGreen[encode_block2]/Sequential[layer]/_GreenBlock[1]/Sequential[layer]/Conv2d[3]\n",
      "  %232 : Float(1, 128, 112, 112) = onnx::BatchNormalization[epsilon=1e-05, is_test=1, momentum=1](%231, %40, %41, %42, %43), scope: MobileHairNet/_EncodeBlockGreenGreen[encode_block2]/Sequential[layer]/_GreenBlock[1]/Sequential[layer]/BatchNorm2d[4]\n",
      "  %233 : Float(1, 128, 112, 112) = onnx::Clip[max=6, min=0](%232), scope: MobileHairNet/_EncodeBlockGreenGreen[encode_block2]/Sequential[layer]/_GreenBlock[1]/Sequential[layer]/ReLU6[5]\n",
      "  %234 : Float(1, 128, 112, 112) = onnx::Conv[dilations=[1, 1], group=128, kernel_shape=[3, 3], pads=[1, 1, 1, 1], strides=[1, 1]](%233, %45, %46), scope: MobileHairNet/_EncodeBlockGreenGreen[encode_block3]/Sequential[layer]/_GreenBlock[0]/Sequential[layer]/Conv2d[0]\n",
      "  %235 : Float(1, 128, 112, 112) = onnx::BatchNormalization[epsilon=1e-05, is_test=1, momentum=1](%234, %47, %48, %49, %50), scope: MobileHairNet/_EncodeBlockGreenGreen[encode_block3]/Sequential[layer]/_GreenBlock[0]/Sequential[layer]/BatchNorm2d[1]\n",
      "  %236 : Float(1, 128, 112, 112) = onnx::Clip[max=6, min=0](%235), scope: MobileHairNet/_EncodeBlockGreenGreen[encode_block3]/Sequential[layer]/_GreenBlock[0]/Sequential[layer]/ReLU6[2]\n",
      "  %237 : Float(1, 256, 56, 56) = onnx::Conv[dilations=[1, 1], group=1, kernel_shape=[1, 1], pads=[0, 0, 0, 0], strides=[2, 2]](%236, %52, %53), scope: MobileHairNet/_EncodeBlockGreenGreen[encode_block3]/Sequential[layer]/_GreenBlock[0]/Sequential[layer]/Conv2d[3]\n",
      "  %238 : Float(1, 256, 56, 56) = onnx::BatchNormalization[epsilon=1e-05, is_test=1, momentum=1](%237, %54, %55, %56, %57), scope: MobileHairNet/_EncodeBlockGreenGreen[encode_block3]/Sequential[layer]/_GreenBlock[0]/Sequential[layer]/BatchNorm2d[4]\n",
      "  %239 : Float(1, 256, 56, 56) = onnx::Clip[max=6, min=0](%238), scope: MobileHairNet/_EncodeBlockGreenGreen[encode_block3]/Sequential[layer]/_GreenBlock[0]/Sequential[layer]/ReLU6[5]\n",
      "  %240 : Float(1, 256, 56, 56) = onnx::Conv[dilations=[1, 1], group=256, kernel_shape=[3, 3], pads=[1, 1, 1, 1], strides=[1, 1]](%239, %59, %60), scope: MobileHairNet/_EncodeBlockGreenGreen[encode_block3]/Sequential[layer]/_GreenBlock[1]/Sequential[layer]/Conv2d[0]\n",
      "  %241 : Float(1, 256, 56, 56) = onnx::BatchNormalization[epsilon=1e-05, is_test=1, momentum=1](%240, %61, %62, %63, %64), scope: MobileHairNet/_EncodeBlockGreenGreen[encode_block3]/Sequential[layer]/_GreenBlock[1]/Sequential[layer]/BatchNorm2d[1]\n",
      "  %242 : Float(1, 256, 56, 56) = onnx::Clip[max=6, min=0](%241), scope: MobileHairNet/_EncodeBlockGreenGreen[encode_block3]/Sequential[layer]/_GreenBlock[1]/Sequential[layer]/ReLU6[2]\n",
      "  %243 : Float(1, 256, 56, 56) = onnx::Conv[dilations=[1, 1], group=1, kernel_shape=[1, 1], pads=[0, 0, 0, 0], strides=[1, 1]](%242, %66, %67), scope: MobileHairNet/_EncodeBlockGreenGreen[encode_block3]/Sequential[layer]/_GreenBlock[1]/Sequential[layer]/Conv2d[3]\n",
      "  %244 : Float(1, 256, 56, 56) = onnx::BatchNormalization[epsilon=1e-05, is_test=1, momentum=1](%243, %68, %69, %70, %71), scope: MobileHairNet/_EncodeBlockGreenGreen[encode_block3]/Sequential[layer]/_GreenBlock[1]/Sequential[layer]/BatchNorm2d[4]\n",
      "  %245 : Float(1, 256, 56, 56) = onnx::Clip[max=6, min=0](%244), scope: MobileHairNet/_EncodeBlockGreenGreen[encode_block3]/Sequential[layer]/_GreenBlock[1]/Sequential[layer]/ReLU6[5]\n",
      "  %246 : Float(1, 256, 56, 56) = onnx::Conv[dilations=[1, 1], group=256, kernel_shape=[3, 3], pads=[1, 1, 1, 1], strides=[1, 1]](%245, %73, %74), scope: MobileHairNet/_EncodeBlock6Green[encode_block4]/Sequential[layer]/_GreenBlock[0]/Sequential[layer]/Conv2d[0]\n",
      "  %247 : Float(1, 256, 56, 56) = onnx::BatchNormalization[epsilon=1e-05, is_test=1, momentum=1](%246, %75, %76, %77, %78), scope: MobileHairNet/_EncodeBlock6Green[encode_block4]/Sequential[layer]/_GreenBlock[0]/Sequential[layer]/BatchNorm2d[1]\n",
      "  %248 : Float(1, 256, 56, 56) = onnx::Clip[max=6, min=0](%247), scope: MobileHairNet/_EncodeBlock6Green[encode_block4]/Sequential[layer]/_GreenBlock[0]/Sequential[layer]/ReLU6[2]\n",
      "  %249 : Float(1, 512, 28, 28) = onnx::Conv[dilations=[1, 1], group=1, kernel_shape=[1, 1], pads=[0, 0, 0, 0], strides=[2, 2]](%248, %80, %81), scope: MobileHairNet/_EncodeBlock6Green[encode_block4]/Sequential[layer]/_GreenBlock[0]/Sequential[layer]/Conv2d[3]\n",
      "  %250 : Float(1, 512, 28, 28) = onnx::BatchNormalization[epsilon=1e-05, is_test=1, momentum=1](%249, %82, %83, %84, %85), scope: MobileHairNet/_EncodeBlock6Green[encode_block4]/Sequential[layer]/_GreenBlock[0]/Sequential[layer]/BatchNorm2d[4]\n",
      "  %251 : Float(1, 512, 28, 28) = onnx::Clip[max=6, min=0](%250), scope: MobileHairNet/_EncodeBlock6Green[encode_block4]/Sequential[layer]/_GreenBlock[0]/Sequential[layer]/ReLU6[5]\n",
      "  %252 : Float(1, 512, 28, 28) = onnx::Conv[dilations=[1, 1], group=512, kernel_shape=[3, 3], pads=[1, 1, 1, 1], strides=[1, 1]](%251, %87, %88), scope: MobileHairNet/_EncodeBlock6Green[encode_block4]/Sequential[layer]/_GreenBlock[1]/Sequential[layer]/Conv2d[0]\n",
      "  %253 : Float(1, 512, 28, 28) = onnx::BatchNormalization[epsilon=1e-05, is_test=1, momentum=1](%252, %89, %90, %91, %92), scope: MobileHairNet/_EncodeBlock6Green[encode_block4]/Sequential[layer]/_GreenBlock[1]/Sequential[layer]/BatchNorm2d[1]\n",
      "  %254 : Float(1, 512, 28, 28) = onnx::Clip[max=6, min=0](%253), scope: MobileHairNet/_EncodeBlock6Green[encode_block4]/Sequential[layer]/_GreenBlock[1]/Sequential[layer]/ReLU6[2]\n",
      "  %255 : Float(1, 512, 28, 28) = onnx::Conv[dilations=[1, 1], group=1, kernel_shape=[1, 1], pads=[0, 0, 0, 0], strides=[1, 1]](%254, %94, %95), scope: MobileHairNet/_EncodeBlock6Green[encode_block4]/Sequential[layer]/_GreenBlock[1]/Sequential[layer]/Conv2d[3]\n",
      "  %256 : Float(1, 512, 28, 28) = onnx::BatchNormalization[epsilon=1e-05, is_test=1, momentum=1](%255, %96, %97, %98, %99), scope: MobileHairNet/_EncodeBlock6Green[encode_block4]/Sequential[layer]/_GreenBlock[1]/Sequential[layer]/BatchNorm2d[4]\n",
      "  %257 : Float(1, 512, 28, 28) = onnx::Clip[max=6, min=0](%256), scope: MobileHairNet/_EncodeBlock6Green[encode_block4]/Sequential[layer]/_GreenBlock[1]/Sequential[layer]/ReLU6[5]\n",
      "  %258 : Float(1, 512, 28, 28) = onnx::Conv[dilations=[1, 1], group=512, kernel_shape=[3, 3], pads=[1, 1, 1, 1], strides=[1, 1]](%257, %101, %102), scope: MobileHairNet/_EncodeBlock6Green[encode_block4]/Sequential[layer]/_GreenBlock[2]/Sequential[layer]/Conv2d[0]\n",
      "  %259 : Float(1, 512, 28, 28) = onnx::BatchNormalization[epsilon=1e-05, is_test=1, momentum=1](%258, %103, %104, %105, %106), scope: MobileHairNet/_EncodeBlock6Green[encode_block4]/Sequential[layer]/_GreenBlock[2]/Sequential[layer]/BatchNorm2d[1]\n",
      "  %260 : Float(1, 512, 28, 28) = onnx::Clip[max=6, min=0](%259), scope: MobileHairNet/_EncodeBlock6Green[encode_block4]/Sequential[layer]/_GreenBlock[2]/Sequential[layer]/ReLU6[2]\n",
      "  %261 : Float(1, 512, 28, 28) = onnx::Conv[dilations=[1, 1], group=1, kernel_shape=[1, 1], pads=[0, 0, 0, 0], strides=[1, 1]](%260, %108, %109), scope: MobileHairNet/_EncodeBlock6Green[encode_block4]/Sequential[layer]/_GreenBlock[2]/Sequential[layer]/Conv2d[3]\n",
      "  %262 : Float(1, 512, 28, 28) = onnx::BatchNormalization[epsilon=1e-05, is_test=1, momentum=1](%261, %110, %111, %112, %113), scope: MobileHairNet/_EncodeBlock6Green[encode_block4]/Sequential[layer]/_GreenBlock[2]/Sequential[layer]/BatchNorm2d[4]\n",
      "  %263 : Float(1, 512, 28, 28) = onnx::Clip[max=6, min=0](%262), scope: MobileHairNet/_EncodeBlock6Green[encode_block4]/Sequential[layer]/_GreenBlock[2]/Sequential[layer]/ReLU6[5]\n",
      "  %264 : Float(1, 512, 28, 28) = onnx::Conv[dilations=[1, 1], group=512, kernel_shape=[3, 3], pads=[1, 1, 1, 1], strides=[1, 1]](%263, %115, %116), scope: MobileHairNet/_EncodeBlock6Green[encode_block4]/Sequential[layer]/_GreenBlock[3]/Sequential[layer]/Conv2d[0]\n",
      "  %265 : Float(1, 512, 28, 28) = onnx::BatchNormalization[epsilon=1e-05, is_test=1, momentum=1](%264, %117, %118, %119, %120), scope: MobileHairNet/_EncodeBlock6Green[encode_block4]/Sequential[layer]/_GreenBlock[3]/Sequential[layer]/BatchNorm2d[1]\n",
      "  %266 : Float(1, 512, 28, 28) = onnx::Clip[max=6, min=0](%265), scope: MobileHairNet/_EncodeBlock6Green[encode_block4]/Sequential[layer]/_GreenBlock[3]/Sequential[layer]/ReLU6[2]\n",
      "  %267 : Float(1, 512, 28, 28) = onnx::Conv[dilations=[1, 1], group=1, kernel_shape=[1, 1], pads=[0, 0, 0, 0], strides=[1, 1]](%266, %122, %123), scope: MobileHairNet/_EncodeBlock6Green[encode_block4]/Sequential[layer]/_GreenBlock[3]/Sequential[layer]/Conv2d[3]\n",
      "  %268 : Float(1, 512, 28, 28) = onnx::BatchNormalization[epsilon=1e-05, is_test=1, momentum=1](%267, %124, %125, %126, %127), scope: MobileHairNet/_EncodeBlock6Green[encode_block4]/Sequential[layer]/_GreenBlock[3]/Sequential[layer]/BatchNorm2d[4]\n",
      "  %269 : Float(1, 512, 28, 28) = onnx::Clip[max=6, min=0](%268), scope: MobileHairNet/_EncodeBlock6Green[encode_block4]/Sequential[layer]/_GreenBlock[3]/Sequential[layer]/ReLU6[5]\n",
      "  %270 : Float(1, 512, 28, 28) = onnx::Conv[dilations=[1, 1], group=512, kernel_shape=[3, 3], pads=[1, 1, 1, 1], strides=[1, 1]](%269, %129, %130), scope: MobileHairNet/_EncodeBlock6Green[encode_block4]/Sequential[layer]/_GreenBlock[4]/Sequential[layer]/Conv2d[0]\n",
      "  %271 : Float(1, 512, 28, 28) = onnx::BatchNormalization[epsilon=1e-05, is_test=1, momentum=1](%270, %131, %132, %133, %134), scope: MobileHairNet/_EncodeBlock6Green[encode_block4]/Sequential[layer]/_GreenBlock[4]/Sequential[layer]/BatchNorm2d[1]\n",
      "  %272 : Float(1, 512, 28, 28) = onnx::Clip[max=6, min=0](%271), scope: MobileHairNet/_EncodeBlock6Green[encode_block4]/Sequential[layer]/_GreenBlock[4]/Sequential[layer]/ReLU6[2]\n",
      "  %273 : Float(1, 512, 28, 28) = onnx::Conv[dilations=[1, 1], group=1, kernel_shape=[1, 1], pads=[0, 0, 0, 0], strides=[1, 1]](%272, %136, %137), scope: MobileHairNet/_EncodeBlock6Green[encode_block4]/Sequential[layer]/_GreenBlock[4]/Sequential[layer]/Conv2d[3]\n",
      "  %274 : Float(1, 512, 28, 28) = onnx::BatchNormalization[epsilon=1e-05, is_test=1, momentum=1](%273, %138, %139, %140, %141), scope: MobileHairNet/_EncodeBlock6Green[encode_block4]/Sequential[layer]/_GreenBlock[4]/Sequential[layer]/BatchNorm2d[4]\n",
      "  %275 : Float(1, 512, 28, 28) = onnx::Clip[max=6, min=0](%274), scope: MobileHairNet/_EncodeBlock6Green[encode_block4]/Sequential[layer]/_GreenBlock[4]/Sequential[layer]/ReLU6[5]\n",
      "  %276 : Float(1, 512, 28, 28) = onnx::Conv[dilations=[1, 1], group=512, kernel_shape=[3, 3], pads=[1, 1, 1, 1], strides=[1, 1]](%275, %143, %144), scope: MobileHairNet/_EncodeBlock6Green[encode_block4]/Sequential[layer]/_GreenBlock[5]/Sequential[layer]/Conv2d[0]\n",
      "  %277 : Float(1, 512, 28, 28) = onnx::BatchNormalization[epsilon=1e-05, is_test=1, momentum=1](%276, %145, %146, %147, %148), scope: MobileHairNet/_EncodeBlock6Green[encode_block4]/Sequential[layer]/_GreenBlock[5]/Sequential[layer]/BatchNorm2d[1]\n",
      "  %278 : Float(1, 512, 28, 28) = onnx::Clip[max=6, min=0](%277), scope: MobileHairNet/_EncodeBlock6Green[encode_block4]/Sequential[layer]/_GreenBlock[5]/Sequential[layer]/ReLU6[2]\n",
      "  %279 : Float(1, 512, 28, 28) = onnx::Conv[dilations=[1, 1], group=1, kernel_shape=[1, 1], pads=[0, 0, 0, 0], strides=[1, 1]](%278, %150, %151), scope: MobileHairNet/_EncodeBlock6Green[encode_block4]/Sequential[layer]/_GreenBlock[5]/Sequential[layer]/Conv2d[3]\n",
      "  %280 : Float(1, 512, 28, 28) = onnx::BatchNormalization[epsilon=1e-05, is_test=1, momentum=1](%279, %152, %153, %154, %155), scope: MobileHairNet/_EncodeBlock6Green[encode_block4]/Sequential[layer]/_GreenBlock[5]/Sequential[layer]/BatchNorm2d[4]\n",
      "  %281 : Float(1, 512, 28, 28) = onnx::Clip[max=6, min=0](%280), scope: MobileHairNet/_EncodeBlock6Green[encode_block4]/Sequential[layer]/_GreenBlock[5]/Sequential[layer]/ReLU6[5]\n",
      "  %282 : Float(1, 512, 28, 28) = onnx::Conv[dilations=[1, 1], group=512, kernel_shape=[3, 3], pads=[1, 1, 1, 1], strides=[1, 1]](%281, %157, %158), scope: MobileHairNet/_EncodeBlockGreenGreen[encode_block5]/Sequential[layer]/_GreenBlock[0]/Sequential[layer]/Conv2d[0]\n",
      "  %283 : Float(1, 512, 28, 28) = onnx::BatchNormalization[epsilon=1e-05, is_test=1, momentum=1](%282, %159, %160, %161, %162), scope: MobileHairNet/_EncodeBlockGreenGreen[encode_block5]/Sequential[layer]/_GreenBlock[0]/Sequential[layer]/BatchNorm2d[1]\n",
      "  %284 : Float(1, 512, 28, 28) = onnx::Clip[max=6, min=0](%283), scope: MobileHairNet/_EncodeBlockGreenGreen[encode_block5]/Sequential[layer]/_GreenBlock[0]/Sequential[layer]/ReLU6[2]\n",
      "  %285 : Float(1, 1024, 14, 14) = onnx::Conv[dilations=[1, 1], group=1, kernel_shape=[1, 1], pads=[0, 0, 0, 0], strides=[2, 2]](%284, %164, %165), scope: MobileHairNet/_EncodeBlockGreenGreen[encode_block5]/Sequential[layer]/_GreenBlock[0]/Sequential[layer]/Conv2d[3]\n",
      "  %286 : Float(1, 1024, 14, 14) = onnx::BatchNormalization[epsilon=1e-05, is_test=1, momentum=1](%285, %166, %167, %168, %169), scope: MobileHairNet/_EncodeBlockGreenGreen[encode_block5]/Sequential[layer]/_GreenBlock[0]/Sequential[layer]/BatchNorm2d[4]\n",
      "  %287 : Float(1, 1024, 14, 14) = onnx::Clip[max=6, min=0](%286), scope: MobileHairNet/_EncodeBlockGreenGreen[encode_block5]/Sequential[layer]/_GreenBlock[0]/Sequential[layer]/ReLU6[5]\n",
      "  %288 : Float(1, 1024, 14, 14) = onnx::Conv[dilations=[1, 1], group=1024, kernel_shape=[3, 3], pads=[1, 1, 1, 1], strides=[1, 1]](%287, %171, %172), scope: MobileHairNet/_EncodeBlockGreenGreen[encode_block5]/Sequential[layer]/_GreenBlock[1]/Sequential[layer]/Conv2d[0]\n",
      "  %289 : Float(1, 1024, 14, 14) = onnx::BatchNormalization[epsilon=1e-05, is_test=1, momentum=1](%288, %173, %174, %175, %176), scope: MobileHairNet/_EncodeBlockGreenGreen[encode_block5]/Sequential[layer]/_GreenBlock[1]/Sequential[layer]/BatchNorm2d[1]\n",
      "  %290 : Float(1, 1024, 14, 14) = onnx::Clip[max=6, min=0](%289), scope: MobileHairNet/_EncodeBlockGreenGreen[encode_block5]/Sequential[layer]/_GreenBlock[1]/Sequential[layer]/ReLU6[2]\n",
      "  %291 : Float(1, 1024, 14, 14) = onnx::Conv[dilations=[1, 1], group=1, kernel_shape=[1, 1], pads=[0, 0, 0, 0], strides=[1, 1]](%290, %178, %179), scope: MobileHairNet/_EncodeBlockGreenGreen[encode_block5]/Sequential[layer]/_GreenBlock[1]/Sequential[layer]/Conv2d[3]\n",
      "  %292 : Float(1, 1024, 14, 14) = onnx::BatchNormalization[epsilon=1e-05, is_test=1, momentum=1](%291, %180, %181, %182, %183), scope: MobileHairNet/_EncodeBlockGreenGreen[encode_block5]/Sequential[layer]/_GreenBlock[1]/Sequential[layer]/BatchNorm2d[4]\n",
      "  %293 : Float(1, 1024, 14, 14) = onnx::Clip[max=6, min=0](%292), scope: MobileHairNet/_EncodeBlockGreenGreen[encode_block5]/Sequential[layer]/_GreenBlock[1]/Sequential[layer]/ReLU6[5]\n",
      "  %294 : Float(1, 1024, 28, 28) = onnx::Upsample[height_scale=2, mode=nearest, width_scale=2](%293), scope: MobileHairNet/_DecodeBlockYellowOrange[decode_block1]/_YellowBlock[yellow_layer]/_UpsampleLayer[upsample]\n",
      "  %295 : Float(1, 1024, 28, 28) = onnx::Conv[dilations=[1, 1], group=1, kernel_shape=[1, 1], pads=[0, 0, 0, 0], strides=[1, 1]](%281, %185, %186), scope: MobileHairNet/_DecodeBlockYellowOrange[decode_block1]/_YellowBlock[yellow_layer]/_SkipConnection[skipConnect]/Conv2d[layer]\n",
      "  %296 : Float(1, 1024, 28, 28) = onnx::Add(%294, %295), scope: MobileHairNet/_DecodeBlockYellowOrange[decode_block1]/_YellowBlock[yellow_layer]\n",
      "  %297 : Float(1, 1024, 28, 28) = onnx::Conv[dilations=[1, 1], group=1024, kernel_shape=[3, 3], pads=[1, 1, 1, 1], strides=[1, 1]](%296, %187, %188), scope: MobileHairNet/_DecodeBlockYellowOrange[decode_block1]/_OrangeBlock[orange_layer]/Sequential[layer]/Conv2d[0]\n",
      "  %298 : Float(1, 64, 28, 28) = onnx::Conv[dilations=[1, 1], group=1, kernel_shape=[1, 1], pads=[0, 0, 0, 0], strides=[1, 1]](%297, %189, %190), scope: MobileHairNet/_DecodeBlockYellowOrange[decode_block1]/_OrangeBlock[orange_layer]/Sequential[layer]/Conv2d[1]\n",
      "  %299 : Float(1, 64, 28, 28) = onnx::Clip[max=6, min=0](%298), scope: MobileHairNet/_DecodeBlockYellowOrange[decode_block1]/_OrangeBlock[orange_layer]/Sequential[layer]/ReLU6[2]\n",
      "  %300 : Float(1, 64, 56, 56) = onnx::Upsample[height_scale=2, mode=nearest, width_scale=2](%299), scope: MobileHairNet/_DecodeBlockYellowOrange[decode_block2]/_YellowBlock[yellow_layer]/_UpsampleLayer[upsample]\n",
      "  %301 : Float(1, 64, 56, 56) = onnx::Conv[dilations=[1, 1], group=1, kernel_shape=[1, 1], pads=[0, 0, 0, 0], strides=[1, 1]](%245, %191, %192), scope: MobileHairNet/_DecodeBlockYellowOrange[decode_block2]/_YellowBlock[yellow_layer]/_SkipConnection[skipConnect]/Conv2d[layer]\n",
      "  %302 : Float(1, 64, 56, 56) = onnx::Add(%300, %301), scope: MobileHairNet/_DecodeBlockYellowOrange[decode_block2]/_YellowBlock[yellow_layer]\n",
      "  %303 : Float(1, 64, 56, 56) = onnx::Conv[dilations=[1, 1], group=64, kernel_shape=[3, 3], pads=[1, 1, 1, 1], strides=[1, 1]](%302, %193, %194), scope: MobileHairNet/_DecodeBlockYellowOrange[decode_block2]/_OrangeBlock[orange_layer]/Sequential[layer]/Conv2d[0]\n",
      "  %304 : Float(1, 64, 56, 56) = onnx::Conv[dilations=[1, 1], group=1, kernel_shape=[1, 1], pads=[0, 0, 0, 0], strides=[1, 1]](%303, %195, %196), scope: MobileHairNet/_DecodeBlockYellowOrange[decode_block2]/_OrangeBlock[orange_layer]/Sequential[layer]/Conv2d[1]\n",
      "  %305 : Float(1, 64, 56, 56) = onnx::Clip[max=6, min=0](%304), scope: MobileHairNet/_DecodeBlockYellowOrange[decode_block2]/_OrangeBlock[orange_layer]/Sequential[layer]/ReLU6[2]\n",
      "  %306 : Float(1, 64, 112, 112) = onnx::Upsample[height_scale=2, mode=nearest, width_scale=2](%305), scope: MobileHairNet/_DecodeBlockYellowOrange[decode_block3]/_YellowBlock[yellow_layer]/_UpsampleLayer[upsample]\n",
      "  %307 : Float(1, 64, 112, 112) = onnx::Conv[dilations=[1, 1], group=1, kernel_shape=[1, 1], pads=[0, 0, 0, 0], strides=[1, 1]](%233, %197, %198), scope: MobileHairNet/_DecodeBlockYellowOrange[decode_block3]/_YellowBlock[yellow_layer]/_SkipConnection[skipConnect]/Conv2d[layer]\n",
      "  %308 : Float(1, 64, 112, 112) = onnx::Add(%306, %307), scope: MobileHairNet/_DecodeBlockYellowOrange[decode_block3]/_YellowBlock[yellow_layer]\n",
      "  %309 : Float(1, 64, 112, 112) = onnx::Conv[dilations=[1, 1], group=64, kernel_shape=[3, 3], pads=[1, 1, 1, 1], strides=[1, 1]](%308, %199, %200), scope: MobileHairNet/_DecodeBlockYellowOrange[decode_block3]/_OrangeBlock[orange_layer]/Sequential[layer]/Conv2d[0]\n",
      "  %310 : Float(1, 64, 112, 112) = onnx::Conv[dilations=[1, 1], group=1, kernel_shape=[1, 1], pads=[0, 0, 0, 0], strides=[1, 1]](%309, %201, %202), scope: MobileHairNet/_DecodeBlockYellowOrange[decode_block3]/_OrangeBlock[orange_layer]/Sequential[layer]/Conv2d[1]\n",
      "  %311 : Float(1, 64, 112, 112) = onnx::Clip[max=6, min=0](%310), scope: MobileHairNet/_DecodeBlockYellowOrange[decode_block3]/_OrangeBlock[orange_layer]/Sequential[layer]/ReLU6[2]\n",
      "  %312 : Float(1, 64, 224, 224) = onnx::Upsample[height_scale=2, mode=nearest, width_scale=2](%311), scope: MobileHairNet/_DecodeBlockYellowOrange[decode_block4]/_YellowBlock[yellow_layer]/_UpsampleLayer[upsample]\n",
      "  %313 : Float(1, 64, 224, 224) = onnx::Conv[dilations=[1, 1], group=1, kernel_shape=[1, 1], pads=[0, 0, 0, 0], strides=[1, 1]](%221, %203, %204), scope: MobileHairNet/_DecodeBlockYellowOrange[decode_block4]/_YellowBlock[yellow_layer]/_SkipConnection[skipConnect]/Conv2d[layer]\n",
      "  %314 : Float(1, 64, 224, 224) = onnx::Add(%312, %313), scope: MobileHairNet/_DecodeBlockYellowOrange[decode_block4]/_YellowBlock[yellow_layer]\n",
      "  %315 : Float(1, 64, 224, 224) = onnx::Conv[dilations=[1, 1], group=64, kernel_shape=[3, 3], pads=[1, 1, 1, 1], strides=[1, 1]](%314, %205, %206), scope: MobileHairNet/_DecodeBlockYellowOrange[decode_block4]/_OrangeBlock[orange_layer]/Sequential[layer]/Conv2d[0]\n",
      "  %316 : Float(1, 64, 224, 224) = onnx::Conv[dilations=[1, 1], group=1, kernel_shape=[1, 1], pads=[0, 0, 0, 0], strides=[1, 1]](%315, %207, %208), scope: MobileHairNet/_DecodeBlockYellowOrange[decode_block4]/_OrangeBlock[orange_layer]/Sequential[layer]/Conv2d[1]\n",
      "  %317 : Float(1, 64, 224, 224) = onnx::Clip[max=6, min=0](%316), scope: MobileHairNet/_DecodeBlockYellowOrange[decode_block4]/_OrangeBlock[orange_layer]/Sequential[layer]/ReLU6[2]\n",
      "  %318 : Float(1, 64, 448, 448) = onnx::Upsample[height_scale=2, mode=nearest, width_scale=2](%317), scope: MobileHairNet/_DecodeBlockYellowOrangeRed[decode_block5]/_UpsampleLayer[upsample_layer]\n",
      "  %319 : Float(1, 64, 448, 448) = onnx::Conv[dilations=[1, 1], group=64, kernel_shape=[3, 3], pads=[1, 1, 1, 1], strides=[1, 1]](%318, %209, %210), scope: MobileHairNet/_DecodeBlockYellowOrangeRed[decode_block5]/_OrangeBlock[orange_layer]/Sequential[layer]/Conv2d[0]\n",
      "  %320 : Float(1, 64, 448, 448) = onnx::Conv[dilations=[1, 1], group=1, kernel_shape=[1, 1], pads=[0, 0, 0, 0], strides=[1, 1]](%319, %211, %212), scope: MobileHairNet/_DecodeBlockYellowOrangeRed[decode_block5]/_OrangeBlock[orange_layer]/Sequential[layer]/Conv2d[1]\n",
      "  %321 : Float(1, 64, 448, 448) = onnx::Clip[max=6, min=0](%320), scope: MobileHairNet/_DecodeBlockYellowOrangeRed[decode_block5]/_OrangeBlock[orange_layer]/Sequential[layer]/ReLU6[2]\n",
      "  %322 : Float(1, 1, 448, 448) = onnx::Conv[dilations=[1, 1], group=1, kernel_shape=[1, 1], pads=[0, 0, 0, 0], strides=[1, 1]](%321, %213, %214), scope: MobileHairNet/_DecodeBlockYellowOrangeRed[decode_block5]/_RedBlock[red_layer]/Sequential[layer]/Conv2d[0]\n",
      "  %output : Float(1, 1, 448, 448) = onnx::Sigmoid(%322), scope: MobileHairNet/_DecodeBlockYellowOrangeRed[decode_block5]/_RedBlock[red_layer]/Sequential[layer]/Sigmoid[1]\n",
      "  return (%output);\n",
      "}\n",
      "\n"
     ]
    }
   ],
   "source": [
    "torch_model = build_model(TORCH_MODEL_PATH, device)\n",
    "# export model to ONNX\n",
    "# ONNX need a dummy input\n",
    "dummy_input = Variable(torch.randn(1, 3, config.IMG_SIZE, config.IMG_SIZE))\n",
    "# pred = torch_model(dummy_input)\n",
    "# print(\"output size: \", pred.size())\n",
    "\n",
    "input_names = [\"input\"]\n",
    "output_names = [\"output\"]\n",
    "torch.onnx.export(torch_model, dummy_input, ONNX_MODEL_PATH, verbose=True, input_names=input_names, output_names=output_names)"
   ]
  },
  {
   "cell_type": "markdown",
   "metadata": {},
   "source": [
    "# Import the ONNX model to tensorflow"
   ]
  },
  {
   "cell_type": "code",
   "execution_count": 23,
   "metadata": {
    "ExecuteTime": {
     "end_time": "2019-08-09T14:40:05.774144Z",
     "start_time": "2019-08-09T14:40:05.730185Z"
    }
   },
   "outputs": [],
   "source": [
    "# load the onnx file\n",
    "onnx_model = onnx.load(ONNX_MODEL_PATH)\n",
    "# Check the model\n",
    "onnx.checker.check_model(onnx_model)\n",
    "# print('The model before conversion:\\n{}'.format(onnx_or_model))\n",
    "\n",
    "# # A full list of supported adapters can be found here:\n",
    "# # https://github.com/onnx/onnx/blob/master/onnx/version_converter.py#L21\n",
    "# # Apply the version conversion on the original model\n",
    "# onnx_model = version_converter.convert_version(onnx_or_model, 6)\n",
    "\n",
    "# print('The model after conversion:\\n{}'.format(onnx_model))\n"
   ]
  },
  {
   "cell_type": "code",
   "execution_count": 24,
   "metadata": {
    "ExecuteTime": {
     "end_time": "2019-08-09T14:40:28.879169Z",
     "start_time": "2019-08-09T14:40:12.885853Z"
    }
   },
   "outputs": [],
   "source": [
    "# import onnx to TF model\n",
    "tf_rep = prepare(onnx_model)"
   ]
  },
  {
   "cell_type": "markdown",
   "metadata": {},
   "source": [
    "# Save to file"
   ]
  },
  {
   "cell_type": "code",
   "execution_count": 25,
   "metadata": {
    "ExecuteTime": {
     "end_time": "2019-08-09T14:40:36.598994Z",
     "start_time": "2019-08-09T14:40:36.217519Z"
    }
   },
   "outputs": [],
   "source": [
    "tf_rep.export_graph(TF_MODEL_PATH)"
   ]
  },
  {
   "cell_type": "code",
   "execution_count": null,
   "metadata": {},
   "outputs": [],
   "source": []
  },
  {
   "cell_type": "markdown",
   "metadata": {},
   "source": [
    "# Run the model to see if it works"
   ]
  },
  {
   "cell_type": "code",
   "execution_count": 26,
   "metadata": {
    "ExecuteTime": {
     "end_time": "2019-08-09T14:52:50.224206Z",
     "start_time": "2019-08-09T14:52:50.211726Z"
    }
   },
   "outputs": [],
   "source": [
    "class ImgTransformer():\n",
    "    def __init__(self, img_size, color_aug=False):\n",
    "        self.img_size = img_size\n",
    "        self.color_aug = color_aug\n",
    "\n",
    "    def transform(self, image):\n",
    "        transformer = transforms.Compose([\n",
    "            transforms.CenterCrop(min(image.size[0], image.size[1])),\n",
    "            transforms.Resize(self.img_size)\n",
    "        ] + ([\n",
    "            transforms.ColorJitter(brightness=1, contrast=1, saturation=1, hue=.5),\n",
    "            transforms.RandomGrayscale(p=0.1)\n",
    "        ] if self.color_aug else []) + [\n",
    "            transforms.ToTensor(),\n",
    "            transforms.Normalize((.5, .5, .5), (.5, .5, .5))\n",
    "        ])\n",
    "\n",
    "        transform_image = transformer(image)\n",
    "\n",
    "        return transform_image\n",
    "\n",
    "    def load(self, path):\n",
    "        image = Image.open(path).convert('RGB')\n",
    "        return self.transform(image)"
   ]
  },
  {
   "cell_type": "code",
   "execution_count": 27,
   "metadata": {
    "ExecuteTime": {
     "end_time": "2019-08-09T14:52:57.738364Z",
     "start_time": "2019-08-09T14:52:57.724916Z"
    }
   },
   "outputs": [],
   "source": [
    "def create_multi_figure(rows, dye=False):\n",
    "    fig = plt.figure()\n",
    "\n",
    "  # 3 tensors, the middle one is mask\n",
    "    if len(rows[0]) == 3:\n",
    "        names = [\"Image\", \"Mask\", \"Prediction\"]\n",
    "    else:\n",
    "        names = [\"Image\", \"Prediction\"]\n",
    "\n",
    "    for i, data in enumerate(rows):\n",
    "        img = data[0]\n",
    "        prediction = data[-1]\n",
    "\n",
    "        # reverse normalization of the oriignal image\n",
    "        img = (img + 1) / 2\n",
    "        data[0] = img\n",
    "\n",
    "        if dye:\n",
    "            transform_hue = transforms.Compose([\n",
    "            transforms.ToPILImage(),\n",
    "            transforms.ColorJitter(\n",
    "                hue=0.5, saturation=0.8, contrast=0.2, brightness=0.3),\n",
    "            transforms.ToTensor()\n",
    "          ])\n",
    "            dyed = transform_hue(img)\n",
    "\n",
    "            dyed = prediction * dyed + (1 - prediction) * img\n",
    "            data.append(dyed)\n",
    "            names.append('Dye')\n",
    "\n",
    "\n",
    "        for j, d in enumerate(data):\n",
    "            d = d.squeeze()\n",
    "            im = d.data.numpy()\n",
    "\n",
    "            if im.shape[0] != 3:\n",
    "                im = np.expand_dims(im, axis=0)\n",
    "                im = np.concatenate((im, im, im), axis=0)\n",
    "\n",
    "            im = im.transpose(1, 2, 0)\n",
    "\n",
    "            f = fig.add_subplot(len(rows), len(data), i * len(data)+ j + 1)\n",
    "            f.imshow(im)\n",
    "            if i == 0:\n",
    "                f.set_title(names[j])\n",
    "                f.set_xticks([])\n",
    "                f.set_yticks([])\n",
    "\n",
    "    return fig"
   ]
  },
  {
   "cell_type": "code",
   "execution_count": 28,
   "metadata": {
    "ExecuteTime": {
     "end_time": "2019-08-09T14:53:05.053864Z",
     "start_time": "2019-08-09T14:53:05.030115Z"
    }
   },
   "outputs": [],
   "source": [
    "img_path = os.path.join(DIR_PATH, config.TEST_CORPUS, \"images\", \"Frame\\ \\(150\\).jpg\")\n",
    "transformer = ImgTransformer(config.IMG_SIZE, color_aug=False)\n",
    "img =  transformer.load(img_path)"
   ]
  },
  {
   "cell_type": "code",
   "execution_count": 29,
   "metadata": {
    "ExecuteTime": {
     "end_time": "2019-08-09T14:53:12.936339Z",
     "start_time": "2019-08-09T14:53:12.370607Z"
    }
   },
   "outputs": [
    {
     "data": {
      "text/plain": [
       "tensor([[[ 0.4902,  0.5137,  0.5216,  ..., -0.6471, -0.6471, -0.6471],\n",
       "         [ 0.4980,  0.5137,  0.5216,  ..., -0.6471, -0.6471, -0.6471],\n",
       "         [ 0.5059,  0.5216,  0.5373,  ..., -0.6471, -0.6471, -0.6392],\n",
       "         ...,\n",
       "         [ 0.0118, -0.0039,  0.0118,  ...,  0.1529,  0.1373,  0.1137],\n",
       "         [-0.0039,  0.0118,  0.0196,  ...,  0.1216,  0.0980,  0.0667],\n",
       "         [-0.0118,  0.0118,  0.0196,  ...,  0.0980,  0.0667,  0.0353]],\n",
       "\n",
       "        [[ 0.3569,  0.3804,  0.3882,  ..., -0.7882, -0.7882, -0.7882],\n",
       "         [ 0.3647,  0.3804,  0.3882,  ..., -0.7882, -0.7882, -0.7882],\n",
       "         [ 0.3647,  0.3804,  0.3961,  ..., -0.7882, -0.7882, -0.7804],\n",
       "         ...,\n",
       "         [-0.1529, -0.1686, -0.1529,  ..., -0.0196, -0.0353, -0.0510],\n",
       "         [-0.1451, -0.1294, -0.1137,  ..., -0.0667, -0.0824, -0.0902],\n",
       "         [-0.1451, -0.1216, -0.1059,  ..., -0.1059, -0.1137, -0.1216]],\n",
       "\n",
       "        [[-0.2706, -0.2471, -0.2471,  ..., -0.7882, -0.7882, -0.7882],\n",
       "         [-0.2627, -0.2471, -0.2471,  ..., -0.7882, -0.7882, -0.7882],\n",
       "         [-0.2627, -0.2549, -0.2471,  ..., -0.7882, -0.7882, -0.7882],\n",
       "         ...,\n",
       "         [-0.4902, -0.5059, -0.4980,  ..., -0.3255, -0.3569, -0.4118],\n",
       "         [-0.5059, -0.4902, -0.4824,  ..., -0.3725, -0.4039, -0.4275],\n",
       "         [-0.5059, -0.4824, -0.4824,  ..., -0.4039, -0.4353, -0.4510]]])"
      ]
     },
     "metadata": {},
     "output_type": "display_data"
    }
   ],
   "source": [
    "display(img)"
   ]
  },
  {
   "cell_type": "code",
   "execution_count": 30,
   "metadata": {
    "ExecuteTime": {
     "end_time": "2019-08-09T14:53:20.316741Z",
     "start_time": "2019-08-09T14:53:20.311364Z"
    }
   },
   "outputs": [],
   "source": [
    "def evaluateOne(img, model, absolute=True):\n",
    "    img = img.to(device).unsqueeze(0)\n",
    "    pred = model.run(img)[0]\n",
    "    pred = torch.from_numpy(pred)\n",
    "    if absolute:\n",
    "        pred[pred > .5] = 1.\n",
    "        pred[pred <= .5] = 0.\n",
    "    else:\n",
    "        pred[pred < .4] = 0\n",
    "\n",
    "    rows = [[img[0], pred[0]]]\n",
    "    create_multi_figure(rows, dye=True)\n",
    "    plt.show()\n"
   ]
  },
  {
   "cell_type": "code",
   "execution_count": 31,
   "metadata": {
    "ExecuteTime": {
     "end_time": "2019-08-09T14:53:38.111645Z",
     "start_time": "2019-08-09T14:53:27.675104Z"
    }
   },
   "outputs": [
    {
     "data": {
      "image/png": "[encoded data removed]",
      "text/plain": [
       "<Figure size 432x288 with 3 Axes>"
      ]
     },
     "metadata": {},
     "output_type": "display_data"
    }
   ],
   "source": [
    "evaluateOne(img, tf_rep)\n"
   ]
  },
  {
   "cell_type": "code",
   "execution_count": null,
   "metadata": {},
   "outputs": [],
   "source": []
  },
  {
   "cell_type": "code",
   "execution_count": null,
   "metadata": {},
   "outputs": [],
   "source": []
  },
  {
   "cell_type": "code",
   "execution_count": null,
   "metadata": {},
   "outputs": [],
   "source": []
  }
 ],
 "metadata": {
  "hide_input": false,
  "kernelspec": {
   "display_name": "Python 3",
   "language": "python",
   "name": "python3"
  },
  "toc": {
   "base_numbering": 1,
   "nav_menu": {},
   "number_sections": true,
   "sideBar": true,
   "skip_h1_title": false,
   "title_cell": "Table of Contents",
   "title_sidebar": "Contents",
   "toc_cell": false,
   "toc_position": {},
   "toc_section_display": true,
   "toc_window_display": false
  },
  "varInspector": {
   "cols": {
    "lenName": 16,
    "lenType": 16,
    "lenVar": 40
   },
   "kernels_config": {
    "python": {
     "delete_cmd_postfix": "",
     "delete_cmd_prefix": "del ",
     "library": "var_list.py",
     "varRefreshCmd": "print(var_dic_list())"
    },
    "r": {
     "delete_cmd_postfix": ") ",
     "delete_cmd_prefix": "rm(",
     "library": "var_list.r",
     "varRefreshCmd": "cat(var_dic_list()) "
    }
   },
   "types_to_exclude": [
    "module",
    "function",
    "builtin_function_or_method",
    "instance",
    "_Feature"
   ],
   "window_display": false
  }
 },
 "nbformat": 4,
 "nbformat_minor": 2
}
